{
 "cells": [
  {
   "cell_type": "code",
   "execution_count": 10,
   "metadata": {},
   "outputs": [
    {
     "data": {
      "text/html": [
       "Finishing last run (ID:af0w1as2) before initializing another..."
      ],
      "text/plain": [
       "<IPython.core.display.HTML object>"
      ]
     },
     "metadata": {},
     "output_type": "display_data"
    },
    {
     "name": "stderr",
     "output_type": "stream",
     "text": [
      "wandb: WARNING Source type is set to 'repo' but some required information is missing from the environment. A job will not be created from this run. See https://docs.wandb.ai/guides/launch/create-job\n"
     ]
    },
    {
     "data": {
      "text/html": [
       " View run <strong style=\"color:#cdcd00\">solar-oath-8</strong> at: <a href='https://wandb.ai/okaynils/del-mc1/runs/af0w1as2' target=\"_blank\">https://wandb.ai/okaynils/del-mc1/runs/af0w1as2</a><br/>Synced 5 W&B file(s), 0 media file(s), 0 artifact file(s) and 0 other file(s)"
      ],
      "text/plain": [
       "<IPython.core.display.HTML object>"
      ]
     },
     "metadata": {},
     "output_type": "display_data"
    },
    {
     "data": {
      "text/html": [
       "Find logs at: <code>./wandb/run-20240307_162406-af0w1as2/logs</code>"
      ],
      "text/plain": [
       "<IPython.core.display.HTML object>"
      ]
     },
     "metadata": {},
     "output_type": "display_data"
    },
    {
     "data": {
      "text/html": [
       "Successfully finished last run (ID:af0w1as2). Initializing new run:<br/>"
      ],
      "text/plain": [
       "<IPython.core.display.HTML object>"
      ]
     },
     "metadata": {},
     "output_type": "display_data"
    },
    {
     "data": {
      "text/html": [
       "wandb version 0.16.4 is available!  To upgrade, please run:\n",
       " $ pip install wandb --upgrade"
      ],
      "text/plain": [
       "<IPython.core.display.HTML object>"
      ]
     },
     "metadata": {},
     "output_type": "display_data"
    },
    {
     "data": {
      "text/html": [
       "Tracking run with wandb version 0.16.3"
      ],
      "text/plain": [
       "<IPython.core.display.HTML object>"
      ]
     },
     "metadata": {},
     "output_type": "display_data"
    },
    {
     "data": {
      "text/html": [
       "Run data is saved locally in <code>/Users/nils/Documents/Classes/del/fhnw-ds-del-mc1/wandb/run-20240307_162458-217etnc4</code>"
      ],
      "text/plain": [
       "<IPython.core.display.HTML object>"
      ]
     },
     "metadata": {},
     "output_type": "display_data"
    },
    {
     "data": {
      "text/html": [
       "Syncing run <strong><a href='https://wandb.ai/okaynils/del-mc1/runs/217etnc4' target=\"_blank\">dandy-dawn-9</a></strong> to <a href='https://wandb.ai/okaynils/del-mc1' target=\"_blank\">Weights & Biases</a> (<a href='https://wandb.me/run' target=\"_blank\">docs</a>)<br/>"
      ],
      "text/plain": [
       "<IPython.core.display.HTML object>"
      ]
     },
     "metadata": {},
     "output_type": "display_data"
    },
    {
     "data": {
      "text/html": [
       " View project at <a href='https://wandb.ai/okaynils/del-mc1' target=\"_blank\">https://wandb.ai/okaynils/del-mc1</a>"
      ],
      "text/plain": [
       "<IPython.core.display.HTML object>"
      ]
     },
     "metadata": {},
     "output_type": "display_data"
    },
    {
     "data": {
      "text/html": [
       " View run at <a href='https://wandb.ai/okaynils/del-mc1/runs/217etnc4' target=\"_blank\">https://wandb.ai/okaynils/del-mc1/runs/217etnc4</a>"
      ],
      "text/plain": [
       "<IPython.core.display.HTML object>"
      ]
     },
     "metadata": {},
     "output_type": "display_data"
    },
    {
     "data": {
      "text/html": [
       "<button onClick=\"this.nextSibling.style.display='block';this.style.display='none';\">Display W&B run</button><iframe src='https://wandb.ai/okaynils/del-mc1/runs/217etnc4?jupyter=true' style='border:none;width:100%;height:420px;display:none;'></iframe>"
      ],
      "text/plain": [
       "<wandb.sdk.wandb_run.Run at 0x17ea00370>"
      ]
     },
     "execution_count": 10,
     "metadata": {},
     "output_type": "execute_result"
    }
   ],
   "source": [
    "import matplotlib.pyplot as plt\n",
    "import torch.nn as nn\n",
    "import torch\n",
    "import torchvision.datasets as datasets\n",
    "import torchvision.transforms as transforms\n",
    "import numpy as np\n",
    "\n",
    "import wandb\n",
    "\n",
    "wandb.init(\n",
    "    project=\"del-mc1\",\n",
    ")"
   ]
  },
  {
   "cell_type": "markdown",
   "metadata": {},
   "source": [
    "#### Downloading Datasets"
   ]
  },
  {
   "cell_type": "code",
   "execution_count": 11,
   "metadata": {},
   "outputs": [
    {
     "name": "stdout",
     "output_type": "stream",
     "text": [
      "Files already downloaded and verified\n",
      "Files already downloaded and verified\n"
     ]
    }
   ],
   "source": [
    "transform = transforms.Compose(\n",
    "    [transforms.ToTensor(),\n",
    "     transforms.Normalize((0.5, 0.5, 0.5), (0.5, 0.5, 0.5))])\n",
    "\n",
    "cifar_trainset = datasets.CIFAR10(root='./data', train=True, download=True, transform=transform)\n",
    "cifar_testset = datasets.CIFAR10(root='./data', train=False, download=True, transform=transform)\n",
    "\n",
    "def normalize_img(img):\n",
    "    img = img / 2 + 0.5     # unnormalize\n",
    "    npimg = img.numpy()\n",
    "    return np.transpose(npimg, (1, 2, 0))"
   ]
  },
  {
   "cell_type": "code",
   "execution_count": 12,
   "metadata": {},
   "outputs": [
    {
     "data": {
      "image/png": "[encoded data removed]",
      "text/plain": [
       "<Figure size 640x480 with 9 Axes>"
      ]
     },
     "metadata": {},
     "output_type": "display_data"
    }
   ],
   "source": [
    "fig, axs = plt.subplots(3, 3)\n",
    "fig.suptitle('CIFAR-10 dataset class samples')\n",
    "\n",
    "independent_class_images = dict()\n",
    "\n",
    "while len(independent_class_images) != 10:\n",
    "    index = np.random.randint(0, len(cifar_trainset))\n",
    "    image = cifar_trainset[index]\n",
    "    independent_class_images[image[1]] = image[0]\n",
    "\n",
    "for i in range(3):\n",
    "    for j in range(3):\n",
    "        axs[i, j].imshow(normalize_img(independent_class_images[i*3+j]))\n",
    "        axs[i, j].set_title(cifar_trainset.classes[i*3+j])\n",
    "        axs[i, j].axis('off')\n",
    "\n",
    "plt.show()"
   ]
  },
  {
   "cell_type": "code",
   "execution_count": 13,
   "metadata": {},
   "outputs": [
    {
     "name": "stdout",
     "output_type": "stream",
     "text": [
      "Using mps device\n"
     ]
    }
   ],
   "source": [
    "# Get cpu, gpu or mps device for training.\n",
    "device = (\n",
    "    \"cuda\"\n",
    "    if torch.cuda.is_available()\n",
    "    else \"mps\"\n",
    "    if torch.backends.mps.is_available()\n",
    "    else \"cpu\"\n",
    ")\n",
    "print(f\"Using {device} device\")"
   ]
  },
  {
   "cell_type": "markdown",
   "metadata": {},
   "source": [
    "## Base Functions"
   ]
  },
  {
   "cell_type": "code",
   "execution_count": 57,
   "metadata": {},
   "outputs": [],
   "source": [
    "from torcheval.metrics import MulticlassAccuracy\n",
    "\n",
    "def train(model: nn.Module, \n",
    "          optimizer, \n",
    "          criterion, \n",
    "          data_loader: torch.utils.data.DataLoader, \n",
    "          device,\n",
    "          n_classes: int,\n",
    "          verbose=True, verbose_interval=2000,\n",
    "          current_epoch: int =1):\n",
    "    acc = MulticlassAccuracy(num_classes=n_classes, device=device)\n",
    "\n",
    "    running_loss = 0.0\n",
    "\n",
    "    for i, data in enumerate(data_loader, 0):\n",
    "        inputs, labels = data[0].to(device), data[1].to(device)\n",
    "        optimizer.zero_grad()\n",
    "        outputs = model(inputs)\n",
    "\n",
    "        loss = criterion(outputs, labels)\n",
    "        loss.backward()\n",
    "\n",
    "        optimizer.step()\n",
    "\n",
    "        running_loss += loss.item()\n",
    "        acc.update(outputs, labels)\n",
    "        if verbose and i % verbose_interval == verbose_interval - 1:\n",
    "            print(f'[Epoch {current_epoch}, {i + 1}] loss: {running_loss / verbose_interval:.3f}')\n",
    "            running_loss = 0.0\n",
    "    \n",
    "    train_loss = running_loss / len(data_loader)\n",
    "\n",
    "    return { \"train_accuracy\": acc.compute(), \"train_loss\": train_loss}"
   ]
  },
  {
   "cell_type": "code",
   "execution_count": 58,
   "metadata": {},
   "outputs": [],
   "source": [
    "def test(model: nn.Module,\n",
    "         criterion,\n",
    "         data_loader: torch.utils.data.DataLoader,\n",
    "         device,\n",
    "         n_classes: int,\n",
    "         verbose=True,\n",
    "         ):\n",
    "    accuracy = MulticlassAccuracy(num_classes=n_classes, device=device)\n",
    "    \n",
    "    model.eval()\n",
    "    y_true = []\n",
    "    y_pred = []\n",
    "    test_loss = 0\n",
    "\n",
    "    with torch.no_grad():\n",
    "        for data, target in data_loader:\n",
    "            data, target = data.to(device), target.to(device)\n",
    "            data, target = data.view(-1, 3, 32, 32), target\n",
    "            y_true.append(target)\n",
    "\n",
    "            output = model(data)\n",
    "            y_pred.append(output)\n",
    "\n",
    "            test_loss += criterion(output, target).item()\n",
    "\n",
    "            class_pred = output.argmax(dim=1)\n",
    "\n",
    "            accuracy.update(class_pred, target)\n",
    "    \n",
    "    test_loss /= len(data_loader.dataset)\n",
    "\n",
    "    return { \"test_accuracy\": accuracy.compute(), \"test_loss\": test_loss}"
   ]
  },
  {
   "cell_type": "code",
   "execution_count": 59,
   "metadata": {},
   "outputs": [],
   "source": [
    "from config import default_config\n",
    "import torch.optim as optim\n",
    "\n",
    "def assess_model(model: nn.Module, \n",
    "                 criterion, \n",
    "                 optimizer,\n",
    "                 train_loader: torch.utils.data.DataLoader,\n",
    "                 test_loader: torch.utils.data.DataLoader,\n",
    "                 config=default_config,\n",
    "                 learning_rate: float = 0.01,\n",
    "                 n_epochs: int = 10,\n",
    "                 n_classes: int = 10,\n",
    "                ):\n",
    "    torch.manual_seed(config[\"seed\"])\n",
    "    np.random.seed(config[\"seed\"])\n",
    "\n",
    "    if optimizer is None:\n",
    "        optimizer = optim.SGD(model.parameters(), lr=learning_rate)\n",
    "\n",
    "    for m in model.modules():\n",
    "        if isinstance(m, nn.Linear) or isinstance(m, nn.Conv2d):\n",
    "            torch.nn.init.kaiming_normal_(m.weight)\n",
    "\n",
    "    with wandb.init(project=\"del-mc1\", \n",
    "                    name=model.__class__.__name__, \n",
    "                    config=default_config\n",
    "                    ) as run:\n",
    "        use_cuda = torch.cuda.is_available()\n",
    "\n",
    "        device = torch.device(\"cuda\" if use_cuda else \"cpu\")\n",
    "\n",
    "        model.to(device)\n",
    "\n",
    "        torch.manual_seed(config[\"seed\"]) \n",
    "\n",
    "        for epoch in range(1, n_epochs + 1):\n",
    "            train_metrics = train(model, optimizer, criterion, train_loader, device, n_classes, current_epoch=epoch)\n",
    "            test_metrics = test(model, criterion, test_loader, device, n_classes)\n",
    "            \n",
    "            print(f\"Epoch {epoch} - Train accuracy: {train_metrics['train_accuracy']:.3f}, Test accuracy: {test_metrics['test_accuracy']:.3f}\")\n",
    "\n",
    "            #wandb.log({\"epoch\": epoch, \n",
    "            #           **train_metrics, \n",
    "            #           **test_metrics})\n"
   ]
  },
  {
   "cell_type": "markdown",
   "metadata": {},
   "source": [
    "## Base Model"
   ]
  },
  {
   "cell_type": "code",
   "execution_count": 60,
   "metadata": {},
   "outputs": [],
   "source": [
    "import torch.nn.functional as F\n",
    "\n",
    "class BaseCNN(nn.Module):\n",
    "    def __init__(self):\n",
    "        super().__init__()\n",
    "        self.conv1 = nn.Conv2d(3, 6, 5)\n",
    "        self.pool = nn.MaxPool2d(2, 2)\n",
    "        self.conv2 = nn.Conv2d(6, 16, 5)\n",
    "        self.fc1 = nn.Linear(16 * 5 * 5, 120)\n",
    "        self.fc2 = nn.Linear(120, 84)\n",
    "        self.fc3 = nn.Linear(84, 10)\n",
    "\n",
    "    def forward(self, x):\n",
    "        x = self.pool(F.relu(self.conv1(x)))\n",
    "        x = self.pool(F.relu(self.conv2(x)))\n",
    "        x = torch.flatten(x, 1)\n",
    "        x = F.relu(self.fc1(x))\n",
    "        x = F.relu(self.fc2(x))\n",
    "        x = self.fc3(x)\n",
    "        \n",
    "        return x\n",
    "\n",
    "net = BaseCNN()"
   ]
  },
  {
   "cell_type": "code",
   "execution_count": 61,
   "metadata": {},
   "outputs": [
    {
     "data": {
      "text/html": [
       "wandb version 0.16.4 is available!  To upgrade, please run:\n",
       " $ pip install wandb --upgrade"
      ],
      "text/plain": [
       "<IPython.core.display.HTML object>"
      ]
     },
     "metadata": {},
     "output_type": "display_data"
    },
    {
     "data": {
      "text/html": [
       "Tracking run with wandb version 0.16.3"
      ],
      "text/plain": [
       "<IPython.core.display.HTML object>"
      ]
     },
     "metadata": {},
     "output_type": "display_data"
    },
    {
     "data": {
      "text/html": [
       "Run data is saved locally in <code>/Users/nils/Documents/Classes/del/fhnw-ds-del-mc1/wandb/run-20240307_175606-b3y2whwe</code>"
      ],
      "text/plain": [
       "<IPython.core.display.HTML object>"
      ]
     },
     "metadata": {},
     "output_type": "display_data"
    },
    {
     "data": {
      "text/html": [
       "Syncing run <strong><a href='https://wandb.ai/okaynils/del-mc1/runs/b3y2whwe' target=\"_blank\">BaseCNN</a></strong> to <a href='https://wandb.ai/okaynils/del-mc1' target=\"_blank\">Weights & Biases</a> (<a href='https://wandb.me/run' target=\"_blank\">docs</a>)<br/>"
      ],
      "text/plain": [
       "<IPython.core.display.HTML object>"
      ]
     },
     "metadata": {},
     "output_type": "display_data"
    },
    {
     "data": {
      "text/html": [
       " View project at <a href='https://wandb.ai/okaynils/del-mc1' target=\"_blank\">https://wandb.ai/okaynils/del-mc1</a>"
      ],
      "text/plain": [
       "<IPython.core.display.HTML object>"
      ]
     },
     "metadata": {},
     "output_type": "display_data"
    },
    {
     "data": {
      "text/html": [
       " View run at <a href='https://wandb.ai/okaynils/del-mc1/runs/b3y2whwe' target=\"_blank\">https://wandb.ai/okaynils/del-mc1/runs/b3y2whwe</a>"
      ],
      "text/plain": [
       "<IPython.core.display.HTML object>"
      ]
     },
     "metadata": {},
     "output_type": "display_data"
    },
    {
     "name": "stdout",
     "output_type": "stream",
     "text": [
      "[Epoch 1, 2000] loss: 2.116\n",
      "[Epoch 1, 4000] loss: 1.884\n",
      "[Epoch 1, 6000] loss: 1.790\n",
      "[Epoch 1, 8000] loss: 1.691\n",
      "[Epoch 1, 10000] loss: 1.658\n",
      "[Epoch 1, 12000] loss: 1.594\n",
      "Epoch 1 - Train accuracy: 0.350, Test accuracy: 0.433\n",
      "[Epoch 2, 2000] loss: 1.556\n",
      "[Epoch 2, 4000] loss: 1.524\n",
      "[Epoch 2, 6000] loss: 1.501\n",
      "[Epoch 2, 8000] loss: 1.498\n",
      "[Epoch 2, 10000] loss: 1.472\n",
      "[Epoch 2, 12000] loss: 1.447\n",
      "Epoch 2 - Train accuracy: 0.458, Test accuracy: 0.478\n",
      "[Epoch 3, 2000] loss: 1.435\n",
      "[Epoch 3, 4000] loss: 1.420\n",
      "[Epoch 3, 6000] loss: 1.392\n",
      "[Epoch 3, 8000] loss: 1.376\n",
      "[Epoch 3, 10000] loss: 1.400\n",
      "[Epoch 3, 12000] loss: 1.386\n",
      "Epoch 3 - Train accuracy: 0.498, Test accuracy: 0.518\n",
      "[Epoch 4, 2000] loss: 1.354\n",
      "[Epoch 4, 4000] loss: 1.357\n",
      "[Epoch 4, 6000] loss: 1.324\n",
      "[Epoch 4, 8000] loss: 1.336\n",
      "[Epoch 4, 10000] loss: 1.314\n",
      "[Epoch 4, 12000] loss: 1.300\n",
      "Epoch 4 - Train accuracy: 0.525, Test accuracy: 0.532\n",
      "[Epoch 5, 2000] loss: 1.282\n",
      "[Epoch 5, 4000] loss: 1.271\n",
      "[Epoch 5, 6000] loss: 1.279\n",
      "[Epoch 5, 8000] loss: 1.272\n",
      "[Epoch 5, 10000] loss: 1.262\n",
      "[Epoch 5, 12000] loss: 1.269\n",
      "Epoch 5 - Train accuracy: 0.547, Test accuracy: 0.545\n",
      "[Epoch 6, 2000] loss: 1.244\n",
      "[Epoch 6, 4000] loss: 1.234\n",
      "[Epoch 6, 6000] loss: 1.217\n",
      "[Epoch 6, 8000] loss: 1.214\n",
      "[Epoch 6, 10000] loss: 1.208\n",
      "[Epoch 6, 12000] loss: 1.222\n",
      "Epoch 6 - Train accuracy: 0.566, Test accuracy: 0.549\n",
      "[Epoch 7, 2000] loss: 1.200\n",
      "[Epoch 7, 4000] loss: 1.191\n",
      "[Epoch 7, 6000] loss: 1.179\n",
      "[Epoch 7, 8000] loss: 1.182\n",
      "[Epoch 7, 10000] loss: 1.162\n",
      "[Epoch 7, 12000] loss: 1.172\n",
      "Epoch 7 - Train accuracy: 0.580, Test accuracy: 0.574\n",
      "[Epoch 8, 2000] loss: 1.162\n",
      "[Epoch 8, 4000] loss: 1.144\n",
      "[Epoch 8, 6000] loss: 1.173\n",
      "[Epoch 8, 8000] loss: 1.133\n",
      "[Epoch 8, 10000] loss: 1.127\n",
      "[Epoch 8, 12000] loss: 1.141\n",
      "Epoch 8 - Train accuracy: 0.595, Test accuracy: 0.587\n",
      "[Epoch 9, 2000] loss: 1.095\n",
      "[Epoch 9, 4000] loss: 1.116\n",
      "[Epoch 9, 6000] loss: 1.120\n",
      "[Epoch 9, 8000] loss: 1.125\n",
      "[Epoch 9, 10000] loss: 1.105\n",
      "[Epoch 9, 12000] loss: 1.109\n",
      "Epoch 9 - Train accuracy: 0.606, Test accuracy: 0.598\n",
      "[Epoch 10, 2000] loss: 1.086\n",
      "[Epoch 10, 4000] loss: 1.073\n",
      "[Epoch 10, 6000] loss: 1.089\n",
      "[Epoch 10, 8000] loss: 1.085\n",
      "[Epoch 10, 10000] loss: 1.074\n",
      "[Epoch 10, 12000] loss: 1.088\n",
      "Epoch 10 - Train accuracy: 0.616, Test accuracy: 0.603\n"
     ]
    },
    {
     "name": "stderr",
     "output_type": "stream",
     "text": [
      "wandb: WARNING Source type is set to 'repo' but some required information is missing from the environment. A job will not be created from this run. See https://docs.wandb.ai/guides/launch/create-job\n"
     ]
    },
    {
     "data": {
      "text/html": [
       " View run <strong style=\"color:#cdcd00\">BaseCNN</strong> at: <a href='https://wandb.ai/okaynils/del-mc1/runs/b3y2whwe' target=\"_blank\">https://wandb.ai/okaynils/del-mc1/runs/b3y2whwe</a><br/>Synced 5 W&B file(s), 0 media file(s), 0 artifact file(s) and 0 other file(s)"
      ],
      "text/plain": [
       "<IPython.core.display.HTML object>"
      ]
     },
     "metadata": {},
     "output_type": "display_data"
    },
    {
     "data": {
      "text/html": [
       "Find logs at: <code>./wandb/run-20240307_175606-b3y2whwe/logs</code>"
      ],
      "text/plain": [
       "<IPython.core.display.HTML object>"
      ]
     },
     "metadata": {},
     "output_type": "display_data"
    }
   ],
   "source": [
    "assess_model(net, \n",
    "             nn.CrossEntropyLoss(), \n",
    "             None, \n",
    "             torch.utils.data.DataLoader(cifar_trainset, batch_size=4, shuffle=True, num_workers=2), \n",
    "             torch.utils.data.DataLoader(cifar_testset, batch_size=4, shuffle=False, num_workers=2),\n",
    "             config=default_config,\n",
    "             learning_rate=0.001,\n",
    "             n_epochs=10,\n",
    "             n_classes=10)"
   ]
  },
  {
   "cell_type": "code",
   "execution_count": 8,
   "metadata": {},
   "outputs": [],
   "source": [
    "import torch.optim as optim\n",
    "\n",
    "criterion = nn.CrossEntropyLoss()\n",
    "optimizer = optim.SGD(net.parameters(), lr=0.001)"
   ]
  },
  {
   "cell_type": "code",
   "execution_count": 9,
   "metadata": {},
   "outputs": [
    {
     "data": {
      "text/plain": [
       "torch.utils.data.dataloader.DataLoader"
      ]
     },
     "execution_count": 9,
     "metadata": {},
     "output_type": "execute_result"
    }
   ],
   "source": [
    "trainloader = torch.utils.data.DataLoader(cifar_trainset, batch_size=4, shuffle=True, num_workers=2)\n",
    "testloader = torch.utils.data.DataLoader(cifar_testset, batch_size=4, shuffle=False, num_workers=2)\n",
    "\n",
    "type(trainloader)"
   ]
  },
  {
   "cell_type": "code",
   "execution_count": 66,
   "metadata": {},
   "outputs": [
    {
     "name": "stdout",
     "output_type": "stream",
     "text": [
      "[1,  2000] loss: 2.303\n",
      "[1,  4000] loss: 2.299\n",
      "[1,  6000] loss: 2.292\n",
      "[1,  8000] loss: 2.278\n",
      "[1, 10000] loss: 2.224\n",
      "[1, 12000] loss: 2.163\n",
      "[2,  2000] loss: 2.096\n",
      "[2,  4000] loss: 2.036\n",
      "[2,  6000] loss: 1.983\n",
      "[2,  8000] loss: 1.927\n",
      "[2, 10000] loss: 1.904\n",
      "[2, 12000] loss: 1.854\n",
      "[3,  2000] loss: 1.803\n",
      "[3,  4000] loss: 1.744\n",
      "[3,  6000] loss: 1.698\n",
      "[3,  8000] loss: 1.678\n",
      "[3, 10000] loss: 1.662\n",
      "[3, 12000] loss: 1.637\n",
      "[4,  2000] loss: 1.610\n",
      "[4,  4000] loss: 1.584\n",
      "[4,  6000] loss: 1.563\n",
      "[4,  8000] loss: 1.542\n",
      "[4, 10000] loss: 1.553\n",
      "[4, 12000] loss: 1.516\n",
      "[5,  2000] loss: 1.518\n",
      "[5,  4000] loss: 1.498\n",
      "[5,  6000] loss: 1.474\n",
      "[5,  8000] loss: 1.461\n",
      "[5, 10000] loss: 1.478\n",
      "[5, 12000] loss: 1.442\n",
      "Finished Training\n"
     ]
    }
   ],
   "source": [
    "for epoch in range(5):  # loop over the dataset multiple times\n",
    "\n",
    "    running_loss = 0.0\n",
    "    for i, data in enumerate(trainloader, 0):\n",
    "        # get the inputs; data is a list of [inputs, labels]\n",
    "        inputs, labels = data\n",
    "\n",
    "        # zero the parameter gradients\n",
    "        optimizer.zero_grad()\n",
    "\n",
    "        # forward + backward + optimize\n",
    "        outputs = net(inputs)\n",
    "        loss = criterion(outputs, labels)\n",
    "        loss.backward()\n",
    "        optimizer.step()\n",
    "\n",
    "        # print statistics\n",
    "        running_loss += loss.item()\n",
    "        if i % 2000 == 1999:    # print every 2000 mini-batches\n",
    "            print(f'[{epoch + 1}, {i + 1:5d}] loss: {running_loss / 2000:.3f}')\n",
    "            running_loss = 0.0\n",
    "\n",
    "print('Finished Training')"
   ]
  },
  {
   "cell_type": "code",
   "execution_count": 67,
   "metadata": {},
   "outputs": [
    {
     "name": "stdout",
     "output_type": "stream",
     "text": [
      "Accuracy of the network on the 10000 test images: 47.0 %\n"
     ]
    }
   ],
   "source": [
    "correct = 0\n",
    "total = 0\n",
    "# since we're not training, we don't need to calculate the gradients for our outputs\n",
    "with torch.no_grad():\n",
    "    for data in testloader:\n",
    "        images, labels = data\n",
    "        # calculate outputs by running images through the network\n",
    "        outputs = net(images)\n",
    "        # the class with the highest energy is what we choose as prediction\n",
    "        _, predicted = torch.max(outputs.data, 1)\n",
    "        total += labels.size(0)\n",
    "        correct += (predicted == labels).sum().item()\n",
    "\n",
    "print(f'Accuracy of the network on the 10000 test images: {100 * correct / total} %')"
   ]
  },
  {
   "cell_type": "code",
   "execution_count": 54,
   "metadata": {},
   "outputs": [
    {
     "name": "stdout",
     "output_type": "stream",
     "text": [
      "F1 score: 0.6213904479943029\n"
     ]
    }
   ],
   "source": [
    "# calculate f1 score\n",
    "from sklearn.metrics import f1_score\n",
    "\n",
    "y_true = []\n",
    "y_pred = []\n",
    "\n",
    "with torch.no_grad():\n",
    "    for data in testloader:\n",
    "        images, labels = data\n",
    "        outputs = net(images)\n",
    "        _, predicted = torch.max(outputs.data, 1)\n",
    "        y_true += labels.tolist()\n",
    "        y_pred += predicted.tolist()\n",
    "\n",
    "f1 = f1_score(y_true, y_pred, average='macro')\n",
    "print(f'F1 score: {f1}')\n"
   ]
  },
  {
   "cell_type": "code",
   "execution_count": null,
   "metadata": {},
   "outputs": [],
   "source": []
  }
 ],
 "metadata": {
  "kernelspec": {
   "display_name": ".venv",
   "language": "python",
   "name": "python3"
  },
  "language_info": {
   "codemirror_mode": {
    "name": "ipython",
    "version": 3
   },
   "file_extension": ".py",
   "mimetype": "text/x-python",
   "name": "python",
   "nbconvert_exporter": "python",
   "pygments_lexer": "ipython3",
   "version": "3.10.10"
  }
 },
 "nbformat": 4,
 "nbformat_minor": 2
}
